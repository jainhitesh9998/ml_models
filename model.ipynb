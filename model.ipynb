{
  "nbformat": 4,
  "nbformat_minor": 0,
  "metadata": {
    "colab": {
      "name": "model.ipynb",
      "version": "0.3.2",
      "provenance": [],
      "include_colab_link": true
    },
    "kernelspec": {
      "display_name": "Python 3",
      "language": "python",
      "name": "python3"
    },
    "accelerator": "GPU"
  },
  "cells": [
    {
      "cell_type": "markdown",
      "metadata": {
        "id": "view-in-github",
        "colab_type": "text"
      },
      "source": [
        "[View in Colaboratory](https://colab.research.google.com/github/jainhitesh9998/ml_models/blob/master/model.ipynb)"
      ]
    },
    {
      "metadata": {
        "id": "fqpam2g4ZSzp",
        "colab_type": "code",
        "colab": {}
      },
      "cell_type": "code",
      "source": [
        "#Start of import section\n",
        "import os\n",
        "import cv2\n",
        "import numpy as np\n",
        "import matplotlib.pyplot as plt\n",
        "import sklearn\n",
        "from sklearn.model_selection import train_test_split\n",
        "import csv\n",
        "import pandas\n",
        "from keras.models import Sequential\n",
        "from keras.layers import Flatten, Dense, Lambda, Conv2D, Activation, Cropping2D, MaxPooling2D, Dropout, Reshape, Convolution2D\n",
        "#from keras.layers import softmax\n",
        "from os import listdir\n",
        "from os.path import isfile, join\n",
        "import glob\n",
        "import PIL\n",
        "from PIL import Image\n",
        "import math\n",
        "#end of import section\n",
        "#include all the imports within this section."
      ],
      "execution_count": 0,
      "outputs": []
    },
    {
      "metadata": {
        "id": "512BiQYOZSz4",
        "colab_type": "code",
        "colab": {}
      },
      "cell_type": "code",
      "source": [
        "#Implementation The Nvidia end to end driving neural net architecture. \n",
        "#Added a dropout layer after the 1st convolution_layer to  mitigate overfitting\n",
        "#Default drop probablity for any dropout layer added is kept at 0.2.\n",
        "def NvidiaNet(drop_prob = 0.2):\n",
        "    #create a sequential Model\n",
        "    model = Sequential()\n",
        "    \n",
        "    #Add a Cropping layer to trim the unneeded portions of the IMAGE from the feed\n",
        "    #model.add(Cropping2D)\n",
        "    #model.add(Reshape((50,50,3), input_shape=(None,None,3))\n",
        "    model.add(Cropping2D(cropping = ((0, 0), (0,0)), input_shape = (100 ,100 ,3)))\n",
        "    \n",
        "    #Normalization Layer\n",
        "    #model.add(Lambda(lambda X_input: (X_input/255.0 - 0.5)))\n",
        "\n",
        "    #Conv2D Layer 1 with 5 x 5 kernal size\n",
        "    #model.add(Convolution2D(nb_filter = 3, nb_row = 5, nb_col = 5))\n",
        "    model.add(Convolution2D(nb_filter = 3, nb_row = 3, nb_col = 3, subsample=(1,1)))\n",
        "    model.add(Activation('relu'))\n",
        "\n",
        "    #Dropout layer\n",
        "    model.add(Dropout(drop_prob))\n",
        "    \n",
        "    #Conv2D Layer 2 with 5 x 5 kernal size\n",
        "    #model.add(Convolution2D(nb_filter = 24, nb_row = 5, nb_col = 5))\n",
        "    model.add(Conv2D(nb_filter = 24, nb_row = 3, nb_col = 3,subsample=(2,2)))\n",
        "    model.add(Activation('relu'))\n",
        "\n",
        "    #Conv2D Layer 3 with 5 x 5 kernal size\n",
        "    #model.add(Convolution2D(nb_filter = 36, nb_row = 5, nb_col =  5))\n",
        "    model.add(Conv2D(nb_filter = 36, nb_row = 3, nb_col =  3,subsample=(1,1)))\n",
        "    model.add(Activation('relu'))\n",
        "    \n",
        "    #Dropout layer\n",
        "    model.add(Dropout(drop_prob))\n",
        "\n",
        "    #Conv2D Layer 4 with 3 x 3 kernal size\n",
        "    #model.add(Convolution2D(nb_filter = 48, nb_row = 3, nb_col = 3))\n",
        "    model.add(Conv2D(nb_filter = 48, nb_row = 3, nb_col = 3))\n",
        "    model.add(Activation('relu'))\n",
        "\n",
        "    #Conv2D Layer 5 with 3 x 3 kernal size\n",
        "    #model.add(Convolution2D(nb_filter = 48, nb_row = 3, nb_col = 3))\n",
        "    model.add(Conv2D(nb_filter = 64, nb_row = 3, nb_col = 3))\n",
        "    model.add(Activation('relu'))\n",
        "\n",
        "    #flatten layer\n",
        "    #flatten the output from convolution Layer\n",
        "    model.add(Flatten())\n",
        "\n",
        "    #Fully connected layer 1\n",
        "    model.add(Dense(output_dim = 50))\n",
        "\n",
        "    #Fully connected Layer 2\n",
        "    model.add(Dense(output_dim = 25))\n",
        "\n",
        "    #Fully connected Layer 3\n",
        "    model.add(Dense(output_dim = 10))\n",
        "\n",
        "    #output Layers\n",
        "    model.add(Dense(output_dim = 2, activation='softmax') )\n",
        "\n",
        "    return model\n"
      ],
      "execution_count": 0,
      "outputs": []
    },
    {
      "metadata": {
        "id": "YdhtqXeGZS0E",
        "colab_type": "code",
        "colab": {
          "base_uri": "https://localhost:8080/",
          "height": 938
        },
        "outputId": "995a1d87-08b2-41f1-9363-28c933b6d92e"
      },
      "cell_type": "code",
      "source": [
        "model = NvidiaNet(drop_prob = 0.2)\n",
        "model.summary()"
      ],
      "execution_count": 24,
      "outputs": [
        {
          "output_type": "stream",
          "text": [
            "_________________________________________________________________\n",
            "Layer (type)                 Output Shape              Param #   \n",
            "=================================================================\n",
            "cropping2d_4 (Cropping2D)    (None, 100, 100, 3)       0         \n",
            "_________________________________________________________________\n",
            "conv2d_16 (Conv2D)           (None, 98, 98, 3)         84        \n",
            "_________________________________________________________________\n",
            "activation_16 (Activation)   (None, 98, 98, 3)         0         \n",
            "_________________________________________________________________\n",
            "dropout_7 (Dropout)          (None, 98, 98, 3)         0         \n",
            "_________________________________________________________________\n",
            "conv2d_17 (Conv2D)           (None, 48, 48, 24)        672       \n",
            "_________________________________________________________________\n",
            "activation_17 (Activation)   (None, 48, 48, 24)        0         \n",
            "_________________________________________________________________\n",
            "conv2d_18 (Conv2D)           (None, 46, 46, 36)        7812      \n",
            "_________________________________________________________________\n",
            "activation_18 (Activation)   (None, 46, 46, 36)        0         \n",
            "_________________________________________________________________\n",
            "dropout_8 (Dropout)          (None, 46, 46, 36)        0         \n",
            "_________________________________________________________________\n",
            "conv2d_19 (Conv2D)           (None, 44, 44, 48)        15600     \n",
            "_________________________________________________________________\n",
            "activation_19 (Activation)   (None, 44, 44, 48)        0         \n",
            "_________________________________________________________________\n",
            "conv2d_20 (Conv2D)           (None, 42, 42, 64)        27712     \n",
            "_________________________________________________________________\n",
            "activation_20 (Activation)   (None, 42, 42, 64)        0         \n",
            "_________________________________________________________________\n",
            "flatten_4 (Flatten)          (None, 112896)            0         \n",
            "_________________________________________________________________\n",
            "dense_13 (Dense)             (None, 50)                5644850   \n",
            "_________________________________________________________________\n",
            "dense_14 (Dense)             (None, 25)                1275      \n",
            "_________________________________________________________________\n",
            "dense_15 (Dense)             (None, 10)                260       \n",
            "_________________________________________________________________\n",
            "dense_16 (Dense)             (None, 2)                 22        \n",
            "=================================================================\n",
            "Total params: 5,698,287\n",
            "Trainable params: 5,698,287\n",
            "Non-trainable params: 0\n",
            "_________________________________________________________________\n"
          ],
          "name": "stdout"
        },
        {
          "output_type": "stream",
          "text": [
            "/usr/local/lib/python3.6/dist-packages/ipykernel_launcher.py:15: UserWarning: Update your `Conv2D` call to the Keras 2 API: `Conv2D(kernel_size=(3, 3), filters=3, strides=(1, 1))`\n",
            "  from ipykernel import kernelapp as app\n",
            "/usr/local/lib/python3.6/dist-packages/ipykernel_launcher.py:23: UserWarning: Update your `Conv2D` call to the Keras 2 API: `Conv2D(kernel_size=(3, 3), filters=24, strides=(2, 2))`\n",
            "/usr/local/lib/python3.6/dist-packages/ipykernel_launcher.py:28: UserWarning: Update your `Conv2D` call to the Keras 2 API: `Conv2D(kernel_size=(3, 3), filters=36, strides=(1, 1))`\n",
            "/usr/local/lib/python3.6/dist-packages/ipykernel_launcher.py:36: UserWarning: Update your `Conv2D` call to the Keras 2 API: `Conv2D(kernel_size=(3, 3), filters=48)`\n",
            "/usr/local/lib/python3.6/dist-packages/ipykernel_launcher.py:41: UserWarning: Update your `Conv2D` call to the Keras 2 API: `Conv2D(kernel_size=(3, 3), filters=64)`\n",
            "/usr/local/lib/python3.6/dist-packages/ipykernel_launcher.py:49: UserWarning: Update your `Dense` call to the Keras 2 API: `Dense(units=50)`\n",
            "/usr/local/lib/python3.6/dist-packages/ipykernel_launcher.py:52: UserWarning: Update your `Dense` call to the Keras 2 API: `Dense(units=25)`\n",
            "/usr/local/lib/python3.6/dist-packages/ipykernel_launcher.py:55: UserWarning: Update your `Dense` call to the Keras 2 API: `Dense(units=10)`\n",
            "/usr/local/lib/python3.6/dist-packages/ipykernel_launcher.py:58: UserWarning: Update your `Dense` call to the Keras 2 API: `Dense(activation=\"softmax\", units=2)`\n"
          ],
          "name": "stderr"
        }
      ]
    },
    {
      "metadata": {
        "id": "1WCKVmiYZS0Q",
        "colab_type": "code",
        "colab": {}
      },
      "cell_type": "code",
      "source": [
        "\n",
        "def list_files(path):\n",
        "    #files = [f for f in listdir(path) if isfile(join(path, f))]\n",
        "    #return files\n",
        "    return glob.glob(path)\n",
        "\n",
        "#Perform horizontal flip and return the image and angles\n",
        "def horizontal_flip(img, angle):\n",
        "    hor_flip = cv2.flip(img, 0)\n",
        "    return hor_flip, -1 * angle\n",
        "\n",
        "def make_square(im, min_size=100, fill_color=(0, 0, 0, 0)):\n",
        "    x, y = im.size\n",
        "    size = max(min_size, x, y)\n",
        "    new_im = Image.new('RGB', (size, size), fill_color)\n",
        "    #print((int((size - x) / 2), int(size - y) / 2))\n",
        "    new_im.paste(im, (int((size - x) / 2), int((size - y) / 2)))\n",
        "    return new_im\n",
        "\n",
        "#Takes a image path as input and reads the corresponding image from the disk present in the ./data path.\n",
        "#converts the image to RGB color model and returns it.\n",
        "def read_image(path):\n",
        "    img = PIL.Image.open(path).convert('RGB')\n",
        "    img = make_square(img)\n",
        "    img = img.resize((100, 100), Image.ANTIALIAS)\n",
        "    #open_cv_image = numpy.array(pil_image) \n",
        "    # Convert RGB to BGR \n",
        "    #open_cv_image = open_cv_image[:, :, ::-1].copy()\n",
        "    #img = cv2.imread(path)\n",
        "    \n",
        "    #img = cv2.resize(img, (100, 100))\n",
        "    #rgb = cv2.cvtColor(img, cv2.COLOR_BGR2RGB)\n",
        "    #print(rgb.shape)\n",
        "    return np.asarray(img)\n",
        "\n",
        "\n",
        "#outputs the images and the measurements for the corresponding images persistantly as a subroutine\n",
        "def generator(samples, batch_size = 32): \n",
        "    num_samples = len(samples)\n",
        "    print(num_samples)\n",
        "    while 1: #to run the generator indefinitely, pumping the X, Y sets for the neural network\n",
        "        #shuffle the samples on each EPOCH\n",
        "        sklearn.utils.shuffle(samples)\n",
        "        for offset in range(0, num_samples, batch_size):\n",
        "            batch_samples = samples[offset: offset + batch_size]\n",
        "            \n",
        "            images = []\n",
        "            labels = []\n",
        "\n",
        "            for batch_sample in batch_samples:\n",
        "                \n",
        "                '''\n",
        "                read the image from center camera directly from the disk. \n",
        "                No color model conversion performed for the center image\n",
        "                center image flipped and taken as input irrespective of the center angle.\n",
        "                '''\n",
        "                \n",
        "                name =  batch_sample[0]\n",
        "                image = read_image(name)\n",
        "                images.append(image)\n",
        "                labels.append(batch_sample[1])\n",
        "                #flip_output = horizontal_flip(center_image, center_angle)\n",
        "                #images.append(flip_output[0])\n",
        "                #angles.append(flip_output[1])\n",
        "                \n",
        "                \n",
        "            #Convert the cv2 images and the measurements into numpy array\n",
        "            X_train = np.array(images)\n",
        "            Y_train = np.array(labels)\n",
        "            yield sklearn.utils.shuffle(X_train, Y_train)\n"
      ],
      "execution_count": 0,
      "outputs": []
    },
    {
      "metadata": {
        "id": "qbaHQtI-ZS0Y",
        "colab_type": "code",
        "colab": {
          "base_uri": "https://localhost:8080/",
          "height": 349
        },
        "outputId": "72eaa6ca-922b-48fe-d052-1f1c9385bf5e"
      },
      "cell_type": "code",
      "source": [
        "#testing\n",
        "def load_trained_model(weights_path):\n",
        "    model = NvidiaNet()\n",
        "    model.load_weights(weights_path)\n",
        "    return model\n",
        "\n",
        "\n",
        "#fishing = load_trained_model(\"./model.h5\")\n",
        "\n",
        "#score = fishing.evaluate(x_test, y_test, batch_size=32)\n",
        "img = read_image(samples[10][0])\n",
        "#prediction = fishing.predict(np.expand_dims(img, axis=0))\n",
        "plt.imshow(img)\n",
        "plt.show()\n",
        "#print(prediction)"
      ],
      "execution_count": 26,
      "outputs": [
        {
          "output_type": "display_data",
          "data": {
            "image/png": "[encoded data removed]",
            "text/plain": [
              "<matplotlib.figure.Figure at 0x7f65f6580518>"
            ]
          },
          "metadata": {
            "tags": []
          }
        }
      ]
    },
    {
      "metadata": {
        "id": "kKELirRwZS0s",
        "colab_type": "code",
        "colab": {}
      },
      "cell_type": "code",
      "source": [
        "def process_files(list_files, label):\n",
        "    output = []\n",
        "    for i in list_files:\n",
        "        temp = []\n",
        "        temp.append(i)\n",
        "        l = [0, 0]\n",
        "        l[label] = 1.\n",
        "        temp.append(l)\n",
        "        output.append(temp)\n",
        "    return output\n",
        "\n",
        "#print(process_files(['a','b','c','d'], 0))"
      ],
      "execution_count": 0,
      "outputs": []
    },
    {
      "metadata": {
        "id": "Td6PvrvpZS04",
        "colab_type": "code",
        "colab": {
          "base_uri": "https://localhost:8080/",
          "height": 51
        },
        "outputId": "64c4793f-5305-4eaa-f414-3d23e69a158a"
      },
      "cell_type": "code",
      "source": [
        "#fishing 1, Notfishing 0\n",
        "samples_fishing_list = list_files(\"./fishing_images/fishing/*.jpg\")\n",
        "samples_not_fishing_list = list_files(\"./fishing_images/not_fishing/*.jpg\") + list_files(\"./fishing_images/not_fishing_1/*.jpg\")\n",
        "print(len(samples_fishing_list))\n",
        "print(len(samples_not_fishing_list))\n",
        "samples = process_files(samples_fishing_list, 1) + process_files(samples_not_fishing_list, 0)\n",
        "\n",
        "#img = read_image(samples[0][0])\n",
        "#print(img.shape)"
      ],
      "execution_count": 28,
      "outputs": [
        {
          "output_type": "stream",
          "text": [
            "1703\n",
            "1848\n"
          ],
          "name": "stdout"
        }
      ]
    },
    {
      "metadata": {
        "id": "S2Gvt3L8ZS1E",
        "colab_type": "code",
        "colab": {
          "base_uri": "https://localhost:8080/",
          "height": 34
        },
        "outputId": "aae33a90-2514-43a9-9d80-ae77ffaa4964"
      },
      "cell_type": "code",
      "source": [
        "#testing\n",
        "\n",
        "train_samples, validation_samples = train_test_split(samples, test_size=0.2)\n",
        "print(train_samples[1])"
      ],
      "execution_count": 29,
      "outputs": [
        {
          "output_type": "stream",
          "text": [
            "['./fishing_images/not_fishing_1/image_3141.jpg', [1.0, 0]]\n"
          ],
          "name": "stdout"
        }
      ]
    },
    {
      "metadata": {
        "id": "vwLTdJu3ZS1M",
        "colab_type": "code",
        "colab": {
          "base_uri": "https://localhost:8080/",
          "height": 1125
        },
        "outputId": "a838ec34-cfbb-41fc-d67c-f00a72558adc"
      },
      "cell_type": "code",
      "source": [
        "#The execution portion of the code.\n",
        "#save a model\n",
        "\n",
        "model = NvidiaNet(drop_prob = 0.2)\n",
        "model.summary()\n",
        "model.compile(loss='mse', optimizer='adam')\n",
        "\n",
        "\n",
        "sklearn.utils.shuffle(samples)\n",
        "train_samples, validation_samples = train_test_split(samples, test_size=0.2)\n",
        "print(train_samples[1])\n",
        "\n",
        "#Hyperparameters\n",
        "train_generator = generator(train_samples, 16)\n",
        "validation_generator = generator(validation_samples)\n",
        "epoch = 3\n",
        "#end of hyperparameters\n",
        "\n",
        "history = model.fit_generator(train_generator, samples_per_epoch = len(train_samples), validation_data = validation_generator,\\\n",
        "                   nb_val_samples = len(validation_samples), nb_epoch = epoch)\n",
        "model.save(\"model.h5\")\n",
        "print(\"Model Generated\")\n",
        "\n"
      ],
      "execution_count": 0,
      "outputs": [
        {
          "output_type": "stream",
          "text": [
            "/usr/local/lib/python3.6/dist-packages/ipykernel_launcher.py:15: UserWarning: Update your `Conv2D` call to the Keras 2 API: `Conv2D(kernel_size=(3, 3), filters=3, strides=(1, 1))`\n",
            "  from ipykernel import kernelapp as app\n",
            "/usr/local/lib/python3.6/dist-packages/ipykernel_launcher.py:23: UserWarning: Update your `Conv2D` call to the Keras 2 API: `Conv2D(kernel_size=(3, 3), filters=24, strides=(2, 2))`\n",
            "/usr/local/lib/python3.6/dist-packages/ipykernel_launcher.py:28: UserWarning: Update your `Conv2D` call to the Keras 2 API: `Conv2D(kernel_size=(3, 3), filters=36, strides=(1, 1))`\n",
            "/usr/local/lib/python3.6/dist-packages/ipykernel_launcher.py:36: UserWarning: Update your `Conv2D` call to the Keras 2 API: `Conv2D(kernel_size=(3, 3), filters=48)`\n",
            "/usr/local/lib/python3.6/dist-packages/ipykernel_launcher.py:41: UserWarning: Update your `Conv2D` call to the Keras 2 API: `Conv2D(kernel_size=(3, 3), filters=64)`\n",
            "/usr/local/lib/python3.6/dist-packages/ipykernel_launcher.py:49: UserWarning: Update your `Dense` call to the Keras 2 API: `Dense(units=50)`\n",
            "/usr/local/lib/python3.6/dist-packages/ipykernel_launcher.py:52: UserWarning: Update your `Dense` call to the Keras 2 API: `Dense(units=25)`\n",
            "/usr/local/lib/python3.6/dist-packages/ipykernel_launcher.py:55: UserWarning: Update your `Dense` call to the Keras 2 API: `Dense(units=10)`\n",
            "/usr/local/lib/python3.6/dist-packages/ipykernel_launcher.py:58: UserWarning: Update your `Dense` call to the Keras 2 API: `Dense(activation=\"softmax\", units=2)`\n"
          ],
          "name": "stderr"
        },
        {
          "output_type": "stream",
          "text": [
            "_________________________________________________________________\n",
            "Layer (type)                 Output Shape              Param #   \n",
            "=================================================================\n",
            "cropping2d_10 (Cropping2D)   (None, 100, 100, 3)       0         \n",
            "_________________________________________________________________\n",
            "conv2d_46 (Conv2D)           (None, 98, 98, 3)         84        \n",
            "_________________________________________________________________\n",
            "activation_46 (Activation)   (None, 98, 98, 3)         0         \n",
            "_________________________________________________________________\n",
            "dropout_19 (Dropout)         (None, 98, 98, 3)         0         \n",
            "_________________________________________________________________\n",
            "conv2d_47 (Conv2D)           (None, 48, 48, 24)        672       \n",
            "_________________________________________________________________\n",
            "activation_47 (Activation)   (None, 48, 48, 24)        0         \n",
            "_________________________________________________________________\n",
            "conv2d_48 (Conv2D)           (None, 46, 46, 36)        7812      \n",
            "_________________________________________________________________\n",
            "activation_48 (Activation)   (None, 46, 46, 36)        0         \n",
            "_________________________________________________________________\n",
            "dropout_20 (Dropout)         (None, 46, 46, 36)        0         \n",
            "_________________________________________________________________\n",
            "conv2d_49 (Conv2D)           (None, 44, 44, 48)        15600     \n",
            "_________________________________________________________________\n",
            "activation_49 (Activation)   (None, 44, 44, 48)        0         \n",
            "_________________________________________________________________\n",
            "conv2d_50 (Conv2D)           (None, 42, 42, 64)        27712     \n",
            "_________________________________________________________________\n",
            "activation_50 (Activation)   (None, 42, 42, 64)        0         \n",
            "_________________________________________________________________\n",
            "flatten_10 (Flatten)         (None, 112896)            0         \n",
            "_________________________________________________________________\n",
            "dense_37 (Dense)             (None, 50)                5644850   \n",
            "_________________________________________________________________\n",
            "dense_38 (Dense)             (None, 25)                1275      \n",
            "_________________________________________________________________\n",
            "dense_39 (Dense)             (None, 10)                260       \n",
            "_________________________________________________________________\n",
            "dense_40 (Dense)             (None, 2)                 22        \n",
            "=================================================================\n",
            "Total params: 5,698,287\n",
            "Trainable params: 5,698,287\n",
            "Non-trainable params: 0\n",
            "_________________________________________________________________\n",
            "['./fishing_images/fishing/image_1463.jpg', [0, 1.0]]\n"
          ],
          "name": "stdout"
        },
        {
          "output_type": "stream",
          "text": [
            "/usr/local/lib/python3.6/dist-packages/ipykernel_launcher.py:17: UserWarning: The semantics of the Keras 2 argument `steps_per_epoch` is not the same as the Keras 1 argument `samples_per_epoch`. `steps_per_epoch` is the number of batches to draw from the generator at each epoch. Basically steps_per_epoch = samples_per_epoch/batch_size. Similarly `nb_val_samples`->`validation_steps` and `val_samples`->`steps` arguments have changed. Update your method calls accordingly.\n",
            "/usr/local/lib/python3.6/dist-packages/ipykernel_launcher.py:17: UserWarning: Update your `fit_generator` call to the Keras 2 API: `fit_generator(<generator..., validation_data=<generator..., steps_per_epoch=2840, epochs=3, validation_steps=711)`\n"
          ],
          "name": "stderr"
        },
        {
          "output_type": "stream",
          "text": [
            "2840Epoch 1/3\n",
            "\n",
            "1380/2840 [=============>................] - ETA: 2:20 - loss: 0.4941"
          ],
          "name": "stdout"
        },
        {
          "output_type": "stream",
          "text": [
            "2839/2840 [============================>.] - ETA: 0s - loss: 0.3431711\n"
          ],
          "name": "stdout"
        },
        {
          "output_type": "stream",
          "text": [
            "2840/2840 [==============================] - 382s 134ms/step - loss: 0.3431 - val_loss: 0.1812\n",
            "Epoch 2/3\n",
            " 569/2840 [=====>........................] - ETA: 3:36 - loss: 0.2020"
          ],
          "name": "stdout"
        },
        {
          "output_type": "stream",
          "text": [
            "2308/2840 [=======================>......] - ETA: 50s - loss: 0.2003"
          ],
          "name": "stdout"
        },
        {
          "output_type": "stream",
          "text": [
            "2840/2840 [==============================] - 379s 133ms/step - loss: 0.2002 - val_loss: 0.1811\n",
            "Epoch 3/3\n",
            " 364/2840 [==>...........................] - ETA: 3:50 - loss: 0.2004"
          ],
          "name": "stdout"
        },
        {
          "output_type": "stream",
          "text": [
            "1799/2840 [==================>...........] - ETA: 1:39 - loss: 0.2001"
          ],
          "name": "stdout"
        },
        {
          "output_type": "stream",
          "text": [
            "2448/2840 [========================>.....] - ETA: 37s - loss: 0.2004"
          ],
          "name": "stdout"
        }
      ]
    },
    {
      "metadata": {
        "id": "_pWgI_lLZS1U",
        "colab_type": "code",
        "colab": {}
      },
      "cell_type": "code",
      "source": [
        "print(history.history.keys())\n",
        "plt.plot(history.history['loss'])\n",
        "plt.plot(history.history['val_loss'])\n",
        "plt.title('model loss')\n",
        "plt.ylabel('loss')\n",
        "plt.xlabel('epoch')\n",
        "plt.legend(['train', 'test'], loc='upper left')\n",
        "plt.show()"
      ],
      "execution_count": 0,
      "outputs": []
    },
    {
      "metadata": {
        "id": "ejquxLIEZS1g",
        "colab_type": "code",
        "colab": {}
      },
      "cell_type": "code",
      "source": [
        "print(train_samples[0])\n",
        "img_list = []\n",
        "name = './data/IMG/' + train_samples[0][0].split('/')[-1]\n",
        "center_image = cv2.imread(name)\n",
        "left_image = read_image(train_samples[0][1])\n",
        "right_image = read_image(train_samples[0][2])\n",
        "img_list.append(center_image)\n",
        "img_list.append(left_image)\n",
        "img_list.append(right_image)\n",
        "\n",
        "flip_output = horizontal_flip(center_image, 0)\n",
        "img_list.append(flip_output[0])\n",
        "flip_output = horizontal_flip(left_image, 0)\n",
        "img_list.append(flip_output[0])\n",
        "flip_output = horizontal_flip(right_image, 0)\n",
        "img_list.append(flip_output[0])\n",
        "\n",
        "fig = plt.figure(figsize=(75, 150))\n",
        "# plt.imshow(center_image)\n",
        "# plt.imshow(flip_image)\n",
        "columns = 3\n",
        "rows = 2\n",
        "w=100\n",
        "h=100\n",
        "for i in range(1, columns*rows +1):\n",
        "    img = np.random.randint(10, size=(h,w))\n",
        "    fig.add_subplot(rows, columns, i)\n",
        "    plt.imshow(img_list[i-1])\n",
        "plt.show()\n",
        "\n",
        "\n"
      ],
      "execution_count": 0,
      "outputs": []
    },
    {
      "metadata": {
        "id": "TuAIqF6OZS1o",
        "colab_type": "code",
        "colab": {}
      },
      "cell_type": "code",
      "source": [
        ""
      ],
      "execution_count": 0,
      "outputs": []
    },
    {
      "metadata": {
        "id": "GhQhIugvZS10",
        "colab_type": "code",
        "colab": {},
        "outputId": "85511932-f8c0-438b-c022-04aa5b9e72e3"
      },
      "cell_type": "code",
      "source": [
        "def load_trained_model(weights_path):\n",
        "    model = NvidiaNet()\n",
        "    model.load_weights(weights_path)\n",
        "    return model\n",
        "\n",
        "\n",
        "#fishing = load_trained_model(\"./model.h5\")\n",
        "\n",
        "#score = fishing.evaluate(x_test, y_test, batch_size=32)\n",
        "img = read_image(samples[-1][0])\n",
        "#prediction = fishing.predict(np.expand_dims(img, axis=0))\n",
        "plt.imshow(img)\n",
        "plt.show()\n",
        "print(prediction)\n",
        "   "
      ],
      "execution_count": 0,
      "outputs": [
        {
          "output_type": "error",
          "ename": "TypeError",
          "evalue": "integer argument expected, got float",
          "traceback": [
            "\u001b[0;31m---------------------------------------------------------------------------\u001b[0m",
            "\u001b[0;31mTypeError\u001b[0m                                 Traceback (most recent call last)",
            "\u001b[0;32m<ipython-input-14-e18c0aa7ed45>\u001b[0m in \u001b[0;36m<module>\u001b[0;34m()\u001b[0m\n\u001b[1;32m      8\u001b[0m \u001b[0;34m\u001b[0m\u001b[0m\n\u001b[1;32m      9\u001b[0m \u001b[0;31m#score = fishing.evaluate(x_test, y_test, batch_size=32)\u001b[0m\u001b[0;34m\u001b[0m\u001b[0;34m\u001b[0m\u001b[0m\n\u001b[0;32m---> 10\u001b[0;31m \u001b[0mimg\u001b[0m \u001b[0;34m=\u001b[0m \u001b[0mread_image\u001b[0m\u001b[0;34m(\u001b[0m\u001b[0msamples\u001b[0m\u001b[0;34m[\u001b[0m\u001b[0;34m-\u001b[0m\u001b[0;36m1\u001b[0m\u001b[0;34m]\u001b[0m\u001b[0;34m[\u001b[0m\u001b[0;36m0\u001b[0m\u001b[0;34m]\u001b[0m\u001b[0;34m)\u001b[0m\u001b[0;34m\u001b[0m\u001b[0m\n\u001b[0m\u001b[1;32m     11\u001b[0m \u001b[0;31m#prediction = fishing.predict(np.expand_dims(img, axis=0))\u001b[0m\u001b[0;34m\u001b[0m\u001b[0;34m\u001b[0m\u001b[0m\n\u001b[1;32m     12\u001b[0m \u001b[0mplt\u001b[0m\u001b[0;34m.\u001b[0m\u001b[0mimshow\u001b[0m\u001b[0;34m(\u001b[0m\u001b[0mimg\u001b[0m\u001b[0;34m)\u001b[0m\u001b[0;34m\u001b[0m\u001b[0m\n",
            "\u001b[0;32m<ipython-input-13-e227b74852b0>\u001b[0m in \u001b[0;36mread_image\u001b[0;34m(path)\u001b[0m\n\u001b[1;32m     21\u001b[0m \u001b[0;32mdef\u001b[0m \u001b[0mread_image\u001b[0m\u001b[0;34m(\u001b[0m\u001b[0mpath\u001b[0m\u001b[0;34m)\u001b[0m\u001b[0;34m:\u001b[0m\u001b[0;34m\u001b[0m\u001b[0m\n\u001b[1;32m     22\u001b[0m     \u001b[0mimg\u001b[0m \u001b[0;34m=\u001b[0m \u001b[0mPIL\u001b[0m\u001b[0;34m.\u001b[0m\u001b[0mImage\u001b[0m\u001b[0;34m.\u001b[0m\u001b[0mopen\u001b[0m\u001b[0;34m(\u001b[0m\u001b[0mpath\u001b[0m\u001b[0;34m)\u001b[0m\u001b[0;34m.\u001b[0m\u001b[0mconvert\u001b[0m\u001b[0;34m(\u001b[0m\u001b[0;34m'RGB'\u001b[0m\u001b[0;34m)\u001b[0m\u001b[0;34m\u001b[0m\u001b[0m\n\u001b[0;32m---> 23\u001b[0;31m     \u001b[0mimg\u001b[0m \u001b[0;34m=\u001b[0m \u001b[0mmake_square\u001b[0m\u001b[0;34m(\u001b[0m\u001b[0mimg\u001b[0m\u001b[0;34m)\u001b[0m\u001b[0;34m\u001b[0m\u001b[0m\n\u001b[0m\u001b[1;32m     24\u001b[0m     \u001b[0mimg\u001b[0m\u001b[0;34m.\u001b[0m\u001b[0mresize\u001b[0m\u001b[0;34m(\u001b[0m\u001b[0;34m(\u001b[0m\u001b[0mnew_width\u001b[0m\u001b[0;34m,\u001b[0m \u001b[0mnew_height\u001b[0m\u001b[0;34m)\u001b[0m\u001b[0;34m,\u001b[0m \u001b[0mImage\u001b[0m\u001b[0;34m.\u001b[0m\u001b[0mANTIALIAS\u001b[0m\u001b[0;34m)\u001b[0m\u001b[0;34m\u001b[0m\u001b[0m\n\u001b[1;32m     25\u001b[0m     \u001b[0;31m#open_cv_image = numpy.array(pil_image)\u001b[0m\u001b[0;34m\u001b[0m\u001b[0;34m\u001b[0m\u001b[0m\n",
            "\u001b[0;32m<ipython-input-13-e227b74852b0>\u001b[0m in \u001b[0;36mmake_square\u001b[0;34m(im, min_size, fill_color)\u001b[0m\n\u001b[1;32m     14\u001b[0m     \u001b[0msize\u001b[0m \u001b[0;34m=\u001b[0m \u001b[0mmax\u001b[0m\u001b[0;34m(\u001b[0m\u001b[0mmin_size\u001b[0m\u001b[0;34m,\u001b[0m \u001b[0mx\u001b[0m\u001b[0;34m,\u001b[0m \u001b[0my\u001b[0m\u001b[0;34m)\u001b[0m\u001b[0;34m\u001b[0m\u001b[0m\n\u001b[1;32m     15\u001b[0m     \u001b[0mnew_im\u001b[0m \u001b[0;34m=\u001b[0m \u001b[0mImage\u001b[0m\u001b[0;34m.\u001b[0m\u001b[0mnew\u001b[0m\u001b[0;34m(\u001b[0m\u001b[0;34m'RGB'\u001b[0m\u001b[0;34m,\u001b[0m \u001b[0;34m(\u001b[0m\u001b[0msize\u001b[0m\u001b[0;34m,\u001b[0m \u001b[0msize\u001b[0m\u001b[0;34m)\u001b[0m\u001b[0;34m,\u001b[0m \u001b[0mfill_color\u001b[0m\u001b[0;34m)\u001b[0m\u001b[0;34m\u001b[0m\u001b[0m\n\u001b[0;32m---> 16\u001b[0;31m     \u001b[0mnew_im\u001b[0m\u001b[0;34m.\u001b[0m\u001b[0mpaste\u001b[0m\u001b[0;34m(\u001b[0m\u001b[0mim\u001b[0m\u001b[0;34m,\u001b[0m \u001b[0;34m(\u001b[0m\u001b[0mint\u001b[0m\u001b[0;34m(\u001b[0m\u001b[0msize\u001b[0m \u001b[0;34m-\u001b[0m \u001b[0mx\u001b[0m\u001b[0;34m)\u001b[0m \u001b[0;34m/\u001b[0m \u001b[0;36m2\u001b[0m\u001b[0;34m,\u001b[0m \u001b[0mint\u001b[0m\u001b[0;34m(\u001b[0m\u001b[0msize\u001b[0m \u001b[0;34m-\u001b[0m \u001b[0my\u001b[0m\u001b[0;34m)\u001b[0m \u001b[0;34m/\u001b[0m \u001b[0;36m2\u001b[0m\u001b[0;34m)\u001b[0m\u001b[0;34m)\u001b[0m\u001b[0;34m\u001b[0m\u001b[0m\n\u001b[0m\u001b[1;32m     17\u001b[0m     \u001b[0;32mreturn\u001b[0m \u001b[0mnew_im\u001b[0m\u001b[0;34m\u001b[0m\u001b[0m\n\u001b[1;32m     18\u001b[0m \u001b[0;34m\u001b[0m\u001b[0m\n",
            "\u001b[0;32m/home/carnd/anaconda3/envs/carnd-term1/lib/python3.5/site-packages/PIL/Image.py\u001b[0m in \u001b[0;36mpaste\u001b[0;34m(self, im, box, mask)\u001b[0m\n\u001b[1;32m   1344\u001b[0m             \u001b[0mself\u001b[0m\u001b[0;34m.\u001b[0m\u001b[0mim\u001b[0m\u001b[0;34m.\u001b[0m\u001b[0mpaste\u001b[0m\u001b[0;34m(\u001b[0m\u001b[0mim\u001b[0m\u001b[0;34m,\u001b[0m \u001b[0mbox\u001b[0m\u001b[0;34m,\u001b[0m \u001b[0mmask\u001b[0m\u001b[0;34m.\u001b[0m\u001b[0mim\u001b[0m\u001b[0;34m)\u001b[0m\u001b[0;34m\u001b[0m\u001b[0m\n\u001b[1;32m   1345\u001b[0m         \u001b[0;32melse\u001b[0m\u001b[0;34m:\u001b[0m\u001b[0;34m\u001b[0m\u001b[0m\n\u001b[0;32m-> 1346\u001b[0;31m             \u001b[0mself\u001b[0m\u001b[0;34m.\u001b[0m\u001b[0mim\u001b[0m\u001b[0;34m.\u001b[0m\u001b[0mpaste\u001b[0m\u001b[0;34m(\u001b[0m\u001b[0mim\u001b[0m\u001b[0;34m,\u001b[0m \u001b[0mbox\u001b[0m\u001b[0;34m)\u001b[0m\u001b[0;34m\u001b[0m\u001b[0m\n\u001b[0m\u001b[1;32m   1347\u001b[0m \u001b[0;34m\u001b[0m\u001b[0m\n\u001b[1;32m   1348\u001b[0m     \u001b[0;32mdef\u001b[0m \u001b[0mpoint\u001b[0m\u001b[0;34m(\u001b[0m\u001b[0mself\u001b[0m\u001b[0;34m,\u001b[0m \u001b[0mlut\u001b[0m\u001b[0;34m,\u001b[0m \u001b[0mmode\u001b[0m\u001b[0;34m=\u001b[0m\u001b[0;32mNone\u001b[0m\u001b[0;34m)\u001b[0m\u001b[0;34m:\u001b[0m\u001b[0;34m\u001b[0m\u001b[0m\n",
            "\u001b[0;31mTypeError\u001b[0m: integer argument expected, got float"
          ]
        }
      ]
    },
    {
      "metadata": {
        "id": "eXdpUE46ZS18",
        "colab_type": "code",
        "colab": {}
      },
      "cell_type": "code",
      "source": [
        "\n"
      ],
      "execution_count": 0,
      "outputs": []
    },
    {
      "metadata": {
        "id": "WDx0w3NzZS2I",
        "colab_type": "code",
        "colab": {}
      },
      "cell_type": "code",
      "source": [
        ""
      ],
      "execution_count": 0,
      "outputs": []
    }
  ]
}